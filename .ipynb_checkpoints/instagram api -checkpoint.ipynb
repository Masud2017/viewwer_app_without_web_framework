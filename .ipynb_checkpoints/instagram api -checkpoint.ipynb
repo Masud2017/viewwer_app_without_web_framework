{
 "cells": [
  {
   "cell_type": "code",
   "execution_count": 1,
   "id": "212da652",
   "metadata": {},
   "outputs": [],
   "source": [
    "import json\n",
    "import requests\n"
   ]
  },
  {
   "cell_type": "code",
   "execution_count": null,
   "id": "f315e385",
   "metadata": {},
   "outputs": [],
   "source": [
    "req = requests.get(\"https://www.instagram.com/api/v1/media/3035187576999415510/info/\")"
   ]
  },
  {
   "cell_type": "code",
   "execution_count": null,
   "id": "2e2ae88f",
   "metadata": {},
   "outputs": [],
   "source": []
  }
 ],
 "metadata": {
  "kernelspec": {
   "display_name": "Python 3 (ipykernel)",
   "language": "python",
   "name": "python3"
  },
  "language_info": {
   "codemirror_mode": {
    "name": "ipython",
    "version": 3
   },
   "file_extension": ".py",
   "mimetype": "text/x-python",
   "name": "python",
   "nbconvert_exporter": "python",
   "pygments_lexer": "ipython3",
   "version": "3.11.3"
  }
 },
 "nbformat": 4,
 "nbformat_minor": 5
}
