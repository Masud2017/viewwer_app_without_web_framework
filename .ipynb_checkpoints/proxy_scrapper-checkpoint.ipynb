{
 "cells": [
  {
   "cell_type": "code",
   "execution_count": null,
   "id": "7abd153f",
   "metadata": {},
   "outputs": [],
   "source": [
    "import requests\n",
    "from bs4 import BeautifulSoup\n",
    "import json"
   ]
  },
  {
   "cell_type": "code",
   "execution_count": null,
   "id": "f2349f62",
   "metadata": {},
   "outputs": [
    {
     "name": "stdout",
     "output_type": "stream",
     "text": [
      "212.107.31.118:80\n",
      "143.47.185.211:80\n",
      "72.170.220.17:8080\n",
      "107.6.27.132:80\n",
      "5.254.34.4:3129\n",
      "146.158.19.130:8080\n",
      "36.67.186.5:8080\n"
     ]
    }
   ],
   "source": [
    "url = \"https://free-proxy-list.net\"\n",
    "req = requests.get(url)\n",
    "content = req.text\n",
    "soup = BeautifulSoup(content,'html.parser')\n",
    "extracted_textarea_content = soup.find(\"textarea\",{\"onclick\":\"select(this)\"}).text\n",
    "\n",
    "proxy_list = extracted_textarea_content.split(\"\\n\")[3:]\n",
    "proxy_list = list(filter(lambda item: len(item) > 0,proxy_list))\n",
    "\n",
    "for proxy_item in proxy_list:\n",
    "    print(proxy_item)\n",
    "    try :\n",
    "        ip_req = requests.get(\"https://api.ipify.org?format=json\",proxies = {\"http\":proxy_item})\n",
    "        js = json.loads(ip_req.text)\n",
    "        if js['ip'] == proxy_item:\n",
    "            print(\"Done\")\n",
    "        else:\n",
    "            print(\"Not done\")\n",
    "        print(\"exec\")\n",
    "    except Exception:\n",
    "        pass"
   ]
  },
  {
   "cell_type": "code",
   "execution_count": null,
   "id": "be3431a6",
   "metadata": {},
   "outputs": [],
   "source": []
  },
  {
   "cell_type": "code",
   "execution_count": null,
   "id": "1b8656ab",
   "metadata": {},
   "outputs": [],
   "source": []
  }
 ],
 "metadata": {
  "kernelspec": {
   "display_name": "Python 3 (ipykernel)",
   "language": "python",
   "name": "python3"
  },
  "language_info": {
   "codemirror_mode": {
    "name": "ipython",
    "version": 3
   },
   "file_extension": ".py",
   "mimetype": "text/x-python",
   "name": "python",
   "nbconvert_exporter": "python",
   "pygments_lexer": "ipython3",
   "version": "3.11.3"
  }
 },
 "nbformat": 4,
 "nbformat_minor": 5
}
