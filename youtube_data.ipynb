{
 "cells": [
  {
   "cell_type": "code",
   "execution_count": 1,
   "id": "a7e3d454",
   "metadata": {
    "ExecuteTime": {
     "start_time": "2023-07-31T01:40:46.856804Z",
     "end_time": "2023-07-31T01:40:46.861322Z"
    }
   },
   "outputs": [],
   "source": [
    "import json"
   ]
  },
  {
   "cell_type": "code",
   "execution_count": 2,
   "id": "ff68e470",
   "metadata": {
    "ExecuteTime": {
     "start_time": "2023-07-31T01:40:46.870323Z",
     "end_time": "2023-07-31T01:40:46.891384Z"
    }
   },
   "outputs": [],
   "source": [
    "file = open(\"d.json\",encoding=\"utf8\")\n",
    "j = json.load(file)"
   ]
  },
  {
   "cell_type": "code",
   "execution_count": 3,
   "id": "a4ca93b7",
   "metadata": {
    "ExecuteTime": {
     "start_time": "2023-07-31T01:40:46.894386Z",
     "end_time": "2023-07-31T01:40:46.913914Z"
    }
   },
   "outputs": [
    {
     "name": "stdout",
     "output_type": "stream",
     "text": [
      "19 minutes, 27 seconds\n"
     ]
    }
   ],
   "source": [
    "item = j[\"contents\"]['twoColumnSearchResultsRenderer']['primaryContents']['sectionListRenderer']['contents'][0]['itemSectionRenderer']['contents'][0]['videoRenderer']['lengthText']['accessibility']['accessibilityData']['label']\n",
    "#     item = x['itemSectionRenderer']['contents']\n",
    "print(item)\n",
    "  "
   ]
  },
  {
   "cell_type": "code",
   "execution_count": 3,
   "id": "781788c0",
   "metadata": {
    "ExecuteTime": {
     "start_time": "2023-07-31T01:40:46.913914Z",
     "end_time": "2023-07-31T01:40:46.919921Z"
    }
   },
   "outputs": [],
   "source": []
  },
  {
   "cell_type": "code",
   "execution_count": null,
   "id": "4908087d",
   "metadata": {},
   "outputs": [],
   "source": []
  }
 ],
 "metadata": {
  "kernelspec": {
   "display_name": "Python 3 (ipykernel)",
   "language": "python",
   "name": "python3"
  },
  "language_info": {
   "codemirror_mode": {
    "name": "ipython",
    "version": 3
   },
   "file_extension": ".py",
   "mimetype": "text/x-python",
   "name": "python",
   "nbconvert_exporter": "python",
   "pygments_lexer": "ipython3",
   "version": "3.11.3"
  }
 },
 "nbformat": 4,
 "nbformat_minor": 5
}
